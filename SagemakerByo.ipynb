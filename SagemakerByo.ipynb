{
 "cells": [
  {
   "cell_type": "code",
   "execution_count": 2,
   "metadata": {},
   "outputs": [
    {
     "name": "stdout",
     "output_type": "stream",
     "text": [
      "Requirement already satisfied: sagemaker==1.15.2 in /Users/aeg/miniconda/envs/ppirelation/lib/python3.5/site-packages (1.15.2)\n",
      "Requirement already satisfied: protobuf3-to-dict>=0.1.5 in /Users/aeg/miniconda/envs/ppirelation/lib/python3.5/site-packages (from sagemaker==1.15.2) (0.1.5)\n",
      "Requirement already satisfied: urllib3>=1.21 in /Users/aeg/miniconda/envs/ppirelation/lib/python3.5/site-packages (from sagemaker==1.15.2) (1.24.1)\n",
      "Requirement already satisfied: scipy>=0.19.0 in /Users/aeg/miniconda/envs/ppirelation/lib/python3.5/site-packages (from sagemaker==1.15.2) (1.0.0)\n",
      "Requirement already satisfied: docker-compose>=1.23.0 in /Users/aeg/miniconda/envs/ppirelation/lib/python3.5/site-packages (from sagemaker==1.15.2) (1.23.1)\n",
      "Requirement already satisfied: protobuf>=3.1 in /Users/aeg/miniconda/envs/ppirelation/lib/python3.5/site-packages (from sagemaker==1.15.2) (3.6.1)\n",
      "Requirement already satisfied: boto3>=1.9.45 in /Users/aeg/miniconda/envs/ppirelation/lib/python3.5/site-packages (from sagemaker==1.15.2) (1.9.47)\n",
      "Requirement already satisfied: PyYAML>=3.2 in /Users/aeg/miniconda/envs/ppirelation/lib/python3.5/site-packages (from sagemaker==1.15.2) (3.13)\n",
      "Requirement already satisfied: numpy>=1.9.0 in /Users/aeg/miniconda/envs/ppirelation/lib/python3.5/site-packages (from sagemaker==1.15.2) (1.15.2)\n",
      "Requirement already satisfied: six in /Users/aeg/miniconda/envs/ppirelation/lib/python3.5/site-packages (from protobuf3-to-dict>=0.1.5->sagemaker==1.15.2) (1.11.0)\n",
      "Requirement already satisfied: docopt<0.7,>=0.6.1 in /Users/aeg/miniconda/envs/ppirelation/lib/python3.5/site-packages (from docker-compose>=1.23.0->sagemaker==1.15.2) (0.6.2)\n",
      "Requirement already satisfied: cached-property<2,>=1.2.0 in /Users/aeg/miniconda/envs/ppirelation/lib/python3.5/site-packages (from docker-compose>=1.23.0->sagemaker==1.15.2) (1.5.1)\n",
      "Requirement already satisfied: texttable<0.10,>=0.9.0 in /Users/aeg/miniconda/envs/ppirelation/lib/python3.5/site-packages (from docker-compose>=1.23.0->sagemaker==1.15.2) (0.9.1)\n",
      "Requirement already satisfied: websocket-client<1.0,>=0.32.0 in /Users/aeg/miniconda/envs/ppirelation/lib/python3.5/site-packages (from docker-compose>=1.23.0->sagemaker==1.15.2) (0.54.0)\n",
      "Requirement already satisfied: dockerpty<0.5,>=0.4.1 in /Users/aeg/miniconda/envs/ppirelation/lib/python3.5/site-packages (from docker-compose>=1.23.0->sagemaker==1.15.2) (0.4.1)\n",
      "Requirement already satisfied: requests!=2.11.0,!=2.12.2,!=2.18.0,<2.21,>=2.6.1 in /Users/aeg/miniconda/envs/ppirelation/lib/python3.5/site-packages (from docker-compose>=1.23.0->sagemaker==1.15.2) (2.20.1)\n",
      "Requirement already satisfied: docker<4.0,>=3.5.0 in /Users/aeg/miniconda/envs/ppirelation/lib/python3.5/site-packages (from docker-compose>=1.23.0->sagemaker==1.15.2) (3.5.1)\n",
      "Requirement already satisfied: jsonschema<3,>=2.5.1 in /Users/aeg/miniconda/envs/ppirelation/lib/python3.5/site-packages (from docker-compose>=1.23.0->sagemaker==1.15.2) (2.6.0)\n",
      "Requirement already satisfied: setuptools in /Users/aeg/miniconda/envs/ppirelation/lib/python3.5/site-packages (from protobuf>=3.1->sagemaker==1.15.2) (40.2.0)\n",
      "Requirement already satisfied: s3transfer<0.2.0,>=0.1.10 in /Users/aeg/miniconda/envs/ppirelation/lib/python3.5/site-packages (from boto3>=1.9.45->sagemaker==1.15.2) (0.1.13)\n",
      "Requirement already satisfied: botocore<1.13.0,>=1.12.47 in /Users/aeg/miniconda/envs/ppirelation/lib/python3.5/site-packages (from boto3>=1.9.45->sagemaker==1.15.2) (1.12.47)\n",
      "Requirement already satisfied: jmespath<1.0.0,>=0.7.1 in /Users/aeg/miniconda/envs/ppirelation/lib/python3.5/site-packages (from boto3>=1.9.45->sagemaker==1.15.2) (0.9.3)\n",
      "Requirement already satisfied: chardet<3.1.0,>=3.0.2 in /Users/aeg/miniconda/envs/ppirelation/lib/python3.5/site-packages (from requests!=2.11.0,!=2.12.2,!=2.18.0,<2.21,>=2.6.1->docker-compose>=1.23.0->sagemaker==1.15.2) (3.0.4)\n",
      "Requirement already satisfied: certifi>=2017.4.17 in /Users/aeg/miniconda/envs/ppirelation/lib/python3.5/site-packages (from requests!=2.11.0,!=2.12.2,!=2.18.0,<2.21,>=2.6.1->docker-compose>=1.23.0->sagemaker==1.15.2) (2018.8.24)\n",
      "Requirement already satisfied: idna<2.8,>=2.5 in /Users/aeg/miniconda/envs/ppirelation/lib/python3.5/site-packages (from requests!=2.11.0,!=2.12.2,!=2.18.0,<2.21,>=2.6.1->docker-compose>=1.23.0->sagemaker==1.15.2) (2.7)\n",
      "Requirement already satisfied: docker-pycreds>=0.3.0 in /Users/aeg/miniconda/envs/ppirelation/lib/python3.5/site-packages (from docker<4.0,>=3.5.0->docker-compose>=1.23.0->sagemaker==1.15.2) (0.3.0)\n",
      "Requirement already satisfied: docutils>=0.10 in /Users/aeg/miniconda/envs/ppirelation/lib/python3.5/site-packages (from botocore<1.13.0,>=1.12.47->boto3>=1.9.45->sagemaker==1.15.2) (0.14)\n",
      "Requirement already satisfied: python-dateutil<3.0.0,>=2.1; python_version >= \"2.7\" in /Users/aeg/miniconda/envs/ppirelation/lib/python3.5/site-packages (from botocore<1.13.0,>=1.12.47->boto3>=1.9.45->sagemaker==1.15.2) (2.7.5)\n",
      "\u001b[31mmkl-random 1.0.1 requires cython, which is not installed.\u001b[0m\n",
      "\u001b[31mtwisted 18.7.0 requires PyHamcrest>=1.9.0, which is not installed.\u001b[0m\n",
      "\u001b[33mYou are using pip version 10.0.1, however version 18.1 is available.\n",
      "You should consider upgrading via the 'pip install --upgrade pip' command.\u001b[0m\n"
     ]
    }
   ],
   "source": [
    "!pip install sagemaker==1.15.2"
   ]
  },
  {
   "cell_type": "code",
   "execution_count": 5,
   "metadata": {},
   "outputs": [],
   "source": [
    "s3trainuri=\"s3://aegovansagemaker/ppirelation/data/training_gnorm_with_relation.xml\"\n",
    "trainfilename=\"training_gnorm_with_relation.xml\"\n",
    "bucket_name =\"aegovansagemaker\"\n",
    "\n"
   ]
  },
  {
   "cell_type": "code",
   "execution_count": 6,
   "metadata": {},
   "outputs": [],
   "source": [
    "image=\"324346001917.dkr.ecr.us-east-2.amazonaws.com/ppi-relation-extraction:latest\""
   ]
  },
  {
   "cell_type": "code",
   "execution_count": 9,
   "metadata": {},
   "outputs": [],
   "source": [
    "role = \"arn:aws:iam::324346001917:role/service-role/AmazonSageMaker-ExecutionRole-20180111T103138\"\n",
    "\n"
   ]
  },
  {
   "cell_type": "code",
   "execution_count": 4,
   "metadata": {},
   "outputs": [],
   "source": [
    "from sagemaker import get_execution_role\n",
    "import sagemaker\n",
    "\n",
    "\n",
    "sagemaker_session = sagemaker.Session()\n",
    "\n"
   ]
  },
  {
   "cell_type": "code",
   "execution_count": 10,
   "metadata": {},
   "outputs": [
    {
     "name": "stdout",
     "output_type": "stream",
     "text": [
      "Training job ppi-lowlevel-2018-11-26-09-44-31\n",
      "training artifacts will be uploaded to: s3://aegovansagemaker/ppirelation/output\n",
      "InProgress\n",
      "Training job ended with status: Failed\n",
      "Training failed with the following error: AlgorithmError: Exit Code: 2\n"
     ]
    },
    {
     "ename": "Exception",
     "evalue": "Training job failed",
     "output_type": "error",
     "traceback": [
      "\u001b[0;31m---------------------------------------------------------------------------\u001b[0m",
      "\u001b[0;31mWaiterError\u001b[0m                               Traceback (most recent call last)",
      "\u001b[0;32m<timed exec>\u001b[0m in \u001b[0;36m<module>\u001b[0;34m()\u001b[0m\n",
      "\u001b[0;32m/Users/aeg/miniconda/envs/ppirelation/lib/python3.5/site-packages/botocore/waiter.py\u001b[0m in \u001b[0;36mwait\u001b[0;34m(self, **kwargs)\u001b[0m\n\u001b[1;32m     52\u001b[0m     \u001b[0;32mdef\u001b[0m \u001b[0mwait\u001b[0m\u001b[0;34m(\u001b[0m\u001b[0mself\u001b[0m\u001b[0;34m,\u001b[0m \u001b[0;34m**\u001b[0m\u001b[0mkwargs\u001b[0m\u001b[0;34m)\u001b[0m\u001b[0;34m:\u001b[0m\u001b[0;34m\u001b[0m\u001b[0m\n\u001b[0;32m---> 53\u001b[0;31m         \u001b[0mWaiter\u001b[0m\u001b[0;34m.\u001b[0m\u001b[0mwait\u001b[0m\u001b[0;34m(\u001b[0m\u001b[0mself\u001b[0m\u001b[0;34m,\u001b[0m \u001b[0;34m**\u001b[0m\u001b[0mkwargs\u001b[0m\u001b[0;34m)\u001b[0m\u001b[0;34m\u001b[0m\u001b[0m\n\u001b[0m\u001b[1;32m     54\u001b[0m \u001b[0;34m\u001b[0m\u001b[0m\n",
      "\u001b[0;32m/Users/aeg/miniconda/envs/ppirelation/lib/python3.5/site-packages/botocore/waiter.py\u001b[0m in \u001b[0;36mwait\u001b[0;34m(self, **kwargs)\u001b[0m\n\u001b[1;32m    322\u001b[0m                     \u001b[0mreason\u001b[0m\u001b[0;34m=\u001b[0m\u001b[0;34m'Waiter encountered a terminal failure state'\u001b[0m\u001b[0;34m,\u001b[0m\u001b[0;34m\u001b[0m\u001b[0m\n\u001b[0;32m--> 323\u001b[0;31m                     \u001b[0mlast_response\u001b[0m\u001b[0;34m=\u001b[0m\u001b[0mresponse\u001b[0m\u001b[0;34m,\u001b[0m\u001b[0;34m\u001b[0m\u001b[0m\n\u001b[0m\u001b[1;32m    324\u001b[0m                 )\n",
      "\u001b[0;31mWaiterError\u001b[0m: Waiter TrainingJobCompletedOrStopped failed: Waiter encountered a terminal failure state",
      "\nDuring handling of the above exception, another exception occurred:\n",
      "\u001b[0;31mException\u001b[0m                                 Traceback (most recent call last)",
      "\u001b[0;32m<ipython-input-10-46e9517d1303>\u001b[0m in \u001b[0;36m<module>\u001b[0;34m()\u001b[0m\n\u001b[0;32m----> 1\u001b[0;31m \u001b[0mget_ipython\u001b[0m\u001b[0;34m(\u001b[0m\u001b[0;34m)\u001b[0m\u001b[0;34m.\u001b[0m\u001b[0mrun_cell_magic\u001b[0m\u001b[0;34m(\u001b[0m\u001b[0;34m'time'\u001b[0m\u001b[0;34m,\u001b[0m \u001b[0;34m''\u001b[0m\u001b[0;34m,\u001b[0m \u001b[0;34m'import boto3\\nfrom time import gmtime, strftime\\n\\njob_name = \\'ppi-lowlevel-\\' + strftime(\"%Y-%m-%d-%H-%M-%S\", gmtime())\\nprint(\"Training job\", job_name)\\n\\n\\noutput_location = \\'s3://{}/ppirelation/output\\'.format(bucket_name)\\nprint(\\'training artifacts will be uploaded to: {}\\'.format(output_location))\\n\\ncreate_training_params = \\\\\\n{\\n    \"AlgorithmSpecification\": {\\n        \"TrainingImage\": image,\\n        \"TrainingInputMode\": \"File\"\\n    },\\n    \"RoleArn\": role,\\n    \"OutputDataConfig\": {\\n        \"S3OutputPath\": output_location\\n    },\\n    \"ResourceConfig\": {\\n        \"InstanceCount\": 1,\\n        \"InstanceType\": \"ml.m4.xlarge\",\\n        \"VolumeSizeInGB\": 70\\n    },\\n    \"TrainingJobName\": job_name,\\n    \"HyperParameters\": {\\n                        \\'traindata\\':\\'yelp_reviews.train.shuffled.csv\\'       \\n                       ,\"sagemaker_job_name\"         :job_name \\n                \\n                       },\\n    \"StoppingCondition\": {\\n        \"MaxRuntimeInSeconds\": 60 * 60 * 24 * 5\\n    },\\n    \"InputDataConfig\": [\\n        {\\n            \"ChannelName\": \"train\",\\n            \\n            \"DataSource\": {\\n                \"S3DataSource\": {\\n                    \"S3DataType\": \"S3Prefix\",\\n                    \"S3Uri\": s3trainuri,\\n                    \"S3DataDistributionType\": \"FullyReplicated\"\\n                }\\n            },\\n            \"CompressionType\": \"None\",\\n            \"RecordWrapperType\": \"None\"\\n        }\\n       \\n    ]\\n}\\n\\n\\n\\nsagemaker = boto3.client(\\'sagemaker\\')\\n\\nsagemaker.create_training_job(**create_training_params)\\n\\nstatus = sagemaker.describe_training_job(TrainingJobName=job_name)[\\'TrainingJobStatus\\']\\nprint(status)\\n\\ntry:\\n    sagemaker.get_waiter(\\'training_job_completed_or_stopped\\').wait(TrainingJobName=job_name)\\nfinally:\\n    status = sagemaker.describe_training_job(TrainingJobName=job_name)[\\'TrainingJobStatus\\']\\n    print(\"Training job ended with status: \" + status)\\n    if status == \\'Failed\\':\\n        message = sagemaker.describe_training_job(TrainingJobName=job_name)[\\'FailureReason\\']\\n        print(\\'Training failed with the following error: {}\\'.format(message))\\n        raise Exception(\\'Training job failed\\')'\u001b[0m\u001b[0;34m)\u001b[0m\u001b[0;34m\u001b[0m\u001b[0m\n\u001b[0m",
      "\u001b[0;32m/Users/aeg/miniconda/envs/ppirelation/lib/python3.5/site-packages/IPython/core/interactiveshell.py\u001b[0m in \u001b[0;36mrun_cell_magic\u001b[0;34m(self, magic_name, line, cell)\u001b[0m\n\u001b[1;32m   2101\u001b[0m             \u001b[0mmagic_arg_s\u001b[0m \u001b[0;34m=\u001b[0m \u001b[0mself\u001b[0m\u001b[0;34m.\u001b[0m\u001b[0mvar_expand\u001b[0m\u001b[0;34m(\u001b[0m\u001b[0mline\u001b[0m\u001b[0;34m,\u001b[0m \u001b[0mstack_depth\u001b[0m\u001b[0;34m)\u001b[0m\u001b[0;34m\u001b[0m\u001b[0m\n\u001b[1;32m   2102\u001b[0m             \u001b[0;32mwith\u001b[0m \u001b[0mself\u001b[0m\u001b[0;34m.\u001b[0m\u001b[0mbuiltin_trap\u001b[0m\u001b[0;34m:\u001b[0m\u001b[0;34m\u001b[0m\u001b[0m\n\u001b[0;32m-> 2103\u001b[0;31m                 \u001b[0mresult\u001b[0m \u001b[0;34m=\u001b[0m \u001b[0mfn\u001b[0m\u001b[0;34m(\u001b[0m\u001b[0mmagic_arg_s\u001b[0m\u001b[0;34m,\u001b[0m \u001b[0mcell\u001b[0m\u001b[0;34m)\u001b[0m\u001b[0;34m\u001b[0m\u001b[0m\n\u001b[0m\u001b[1;32m   2104\u001b[0m             \u001b[0;32mreturn\u001b[0m \u001b[0mresult\u001b[0m\u001b[0;34m\u001b[0m\u001b[0m\n\u001b[1;32m   2105\u001b[0m \u001b[0;34m\u001b[0m\u001b[0m\n",
      "\u001b[0;32m<decorator-gen-59>\u001b[0m in \u001b[0;36mtime\u001b[0;34m(self, line, cell, local_ns)\u001b[0m\n",
      "\u001b[0;32m/Users/aeg/miniconda/envs/ppirelation/lib/python3.5/site-packages/IPython/core/magic.py\u001b[0m in \u001b[0;36m<lambda>\u001b[0;34m(f, *a, **k)\u001b[0m\n\u001b[1;32m    186\u001b[0m     \u001b[0;31m# but it's overkill for just that one bit of state.\u001b[0m\u001b[0;34m\u001b[0m\u001b[0;34m\u001b[0m\u001b[0m\n\u001b[1;32m    187\u001b[0m     \u001b[0;32mdef\u001b[0m \u001b[0mmagic_deco\u001b[0m\u001b[0;34m(\u001b[0m\u001b[0marg\u001b[0m\u001b[0;34m)\u001b[0m\u001b[0;34m:\u001b[0m\u001b[0;34m\u001b[0m\u001b[0m\n\u001b[0;32m--> 188\u001b[0;31m         \u001b[0mcall\u001b[0m \u001b[0;34m=\u001b[0m \u001b[0;32mlambda\u001b[0m \u001b[0mf\u001b[0m\u001b[0;34m,\u001b[0m \u001b[0;34m*\u001b[0m\u001b[0ma\u001b[0m\u001b[0;34m,\u001b[0m \u001b[0;34m**\u001b[0m\u001b[0mk\u001b[0m\u001b[0;34m:\u001b[0m \u001b[0mf\u001b[0m\u001b[0;34m(\u001b[0m\u001b[0;34m*\u001b[0m\u001b[0ma\u001b[0m\u001b[0;34m,\u001b[0m \u001b[0;34m**\u001b[0m\u001b[0mk\u001b[0m\u001b[0;34m)\u001b[0m\u001b[0;34m\u001b[0m\u001b[0m\n\u001b[0m\u001b[1;32m    189\u001b[0m \u001b[0;34m\u001b[0m\u001b[0m\n\u001b[1;32m    190\u001b[0m         \u001b[0;32mif\u001b[0m \u001b[0mcallable\u001b[0m\u001b[0;34m(\u001b[0m\u001b[0marg\u001b[0m\u001b[0;34m)\u001b[0m\u001b[0;34m:\u001b[0m\u001b[0;34m\u001b[0m\u001b[0m\n",
      "\u001b[0;32m/Users/aeg/miniconda/envs/ppirelation/lib/python3.5/site-packages/IPython/core/magics/execution.py\u001b[0m in \u001b[0;36mtime\u001b[0;34m(self, line, cell, local_ns)\u001b[0m\n\u001b[1;32m   1174\u001b[0m         \u001b[0;32melse\u001b[0m\u001b[0;34m:\u001b[0m\u001b[0;34m\u001b[0m\u001b[0m\n\u001b[1;32m   1175\u001b[0m             \u001b[0mst\u001b[0m \u001b[0;34m=\u001b[0m \u001b[0mclock2\u001b[0m\u001b[0;34m(\u001b[0m\u001b[0;34m)\u001b[0m\u001b[0;34m\u001b[0m\u001b[0m\n\u001b[0;32m-> 1176\u001b[0;31m             \u001b[0mexec\u001b[0m\u001b[0;34m(\u001b[0m\u001b[0mcode\u001b[0m\u001b[0;34m,\u001b[0m \u001b[0mglob\u001b[0m\u001b[0;34m,\u001b[0m \u001b[0mlocal_ns\u001b[0m\u001b[0;34m)\u001b[0m\u001b[0;34m\u001b[0m\u001b[0m\n\u001b[0m\u001b[1;32m   1177\u001b[0m             \u001b[0mend\u001b[0m \u001b[0;34m=\u001b[0m \u001b[0mclock2\u001b[0m\u001b[0;34m(\u001b[0m\u001b[0;34m)\u001b[0m\u001b[0;34m\u001b[0m\u001b[0m\n\u001b[1;32m   1178\u001b[0m             \u001b[0mout\u001b[0m \u001b[0;34m=\u001b[0m \u001b[0;32mNone\u001b[0m\u001b[0;34m\u001b[0m\u001b[0m\n",
      "\u001b[0;32m<timed exec>\u001b[0m in \u001b[0;36m<module>\u001b[0;34m()\u001b[0m\n",
      "\u001b[0;31mException\u001b[0m: Training job failed"
     ]
    }
   ],
   "source": [
    "%%time\n",
    "import boto3\n",
    "from time import gmtime, strftime\n",
    "\n",
    "job_name = 'ppi-lowlevel-' + strftime(\"%Y-%m-%d-%H-%M-%S\", gmtime())\n",
    "print(\"Training job\", job_name)\n",
    "\n",
    "\n",
    "output_location = 's3://{}/ppirelation/output'.format(bucket_name)\n",
    "print('training artifacts will be uploaded to: {}'.format(output_location))\n",
    "\n",
    "create_training_params = \\\n",
    "{\n",
    "    \"AlgorithmSpecification\": {\n",
    "        \"TrainingImage\": image,\n",
    "        \"TrainingInputMode\": \"File\"\n",
    "    },\n",
    "    \"RoleArn\": role,\n",
    "    \"OutputDataConfig\": {\n",
    "        \"S3OutputPath\": output_location\n",
    "    },\n",
    "    \"ResourceConfig\": {\n",
    "        \"InstanceCount\": 1,\n",
    "        \"InstanceType\": \"ml.m4.xlarge\",\n",
    "        \"VolumeSizeInGB\": 70\n",
    "    },\n",
    "    \"TrainingJobName\": job_name,\n",
    "    \"HyperParameters\": {\n",
    "                        'traindata':trainfilename       \n",
    "                       ,\"sagemaker_job_name\"         :job_name \n",
    "                \n",
    "                       },\n",
    "    \"StoppingCondition\": {\n",
    "        \"MaxRuntimeInSeconds\": 60 * 60 * 24 * 5\n",
    "    },\n",
    "    \"InputDataConfig\": [\n",
    "        {\n",
    "            \"ChannelName\": \"train\",\n",
    "            \n",
    "            \"DataSource\": {\n",
    "                \"S3DataSource\": {\n",
    "                    \"S3DataType\": \"S3Prefix\",\n",
    "                    \"S3Uri\": s3trainuri,\n",
    "                    \"S3DataDistributionType\": \"FullyReplicated\"\n",
    "                }\n",
    "            },\n",
    "            \"CompressionType\": \"None\",\n",
    "            \"RecordWrapperType\": \"None\"\n",
    "        }\n",
    "       \n",
    "    ]\n",
    "}\n",
    "\n",
    "\n",
    "\n",
    "sagemaker = boto3.client('sagemaker')\n",
    "\n",
    "sagemaker.create_training_job(**create_training_params)\n",
    "\n",
    "status = sagemaker.describe_training_job(TrainingJobName=job_name)['TrainingJobStatus']\n",
    "print(status)\n",
    "\n",
    "try:\n",
    "    sagemaker.get_waiter('training_job_completed_or_stopped').wait(TrainingJobName=job_name)\n",
    "finally:\n",
    "    status = sagemaker.describe_training_job(TrainingJobName=job_name)['TrainingJobStatus']\n",
    "    print(\"Training job ended with status: \" + status)\n",
    "    if status == 'Failed':\n",
    "        message = sagemaker.describe_training_job(TrainingJobName=job_name)['FailureReason']\n",
    "        print('Training failed with the following error: {}'.format(message))\n",
    "        raise Exception('Training job failed')"
   ]
  }
 ],
 "metadata": {
  "kernelspec": {
   "display_name": "Python 3",
   "language": "python",
   "name": "python3"
  },
  "language_info": {
   "codemirror_mode": {
    "name": "ipython",
    "version": 3
   },
   "file_extension": ".py",
   "mimetype": "text/x-python",
   "name": "python",
   "nbconvert_exporter": "python",
   "pygments_lexer": "ipython3",
   "version": "3.5.6"
  }
 },
 "nbformat": 4,
 "nbformat_minor": 1
}
